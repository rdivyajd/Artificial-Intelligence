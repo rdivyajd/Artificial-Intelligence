{
 "cells": [
  {
   "cell_type": "code",
   "execution_count": 1,
   "metadata": {},
   "outputs": [],
   "source": [
    "#!/usr/bin/env python\n",
    "# N-Queens_Rooks.ipynb : First Assignment - Solve N-Rooks or N-Queens Problem\n",
    "#\n",
    "# The N-ROOKS problem is: Given an empty NxN chessboard, place N rooks on the board so that no rooks\n",
    "# can take any other, i.e. such that no two rooks share the same row or column.\n",
    "# \n",
    "# The N-QUEENS problem is: Given an empty NxN chessboard, place N Queens on the board so that no rooks\n",
    "# can take any other, i.e. such that no two queens share the same row or column or diagonal.\n",
    "#\n",
    "#\n",
    "# References:\n",
    "# Functions: count_on_row, count_on_col, count_pieces, add_piece \n",
    "#           -- referred and copied from Dr Crandall's initial solution for N-Rooks without constraint\n",
    "# Functions: printable_board, successors, is_goal solver\n",
    "#           -- modified the underlying code, used the same function names \n",
    "#           -- from Dr Crandall's initial solution for N-Rooks Solver without constraint\n",
    "\n",
    "import sys\n",
    "import time"
   ]
  },
  {
   "cell_type": "code",
   "execution_count": 2,
   "metadata": {},
   "outputs": [],
   "source": [
    "class solver:\n",
    "    def __init__(self, x, y, problem_type, search_type, N):\n",
    "        self.x = x\n",
    "        self.y = y\n",
    "        self.problem_type = problem_type\n",
    "        self.search_type = search_type\n",
    "        \n",
    "        # The board is stored as a list-of-lists. Each inner list is a row of the board.\n",
    "        self.initial_board = [[0]*N]*N\n",
    "        \n",
    "        self.execution_time = 0\n",
    "        \n",
    "    # Count # of pieces in given row\n",
    "    def count_on_row(self, board, row):\n",
    "        return sum( board[row] ) \n",
    "\n",
    "    # Count # of pieces in given column\n",
    "    def count_on_col(self, board, col):\n",
    "        return sum( [ row[col] for row in board ] ) \n",
    "\n",
    "    def count_on_diag(self, board, x, y):\n",
    "        n = len(board)\n",
    "        count = 0\n",
    "        # Left lower diagonal 1\n",
    "        if (x + 1) < N and (y - 1 > -1): \n",
    "            count += sum([1 for q, r in zip(range(x + 1, N), range(y - 1, -1, -1)) \n",
    "                                 if (board[x][y] == 1 and board[x][y] == board[q][r])])\n",
    "        # Left upper diagonal 2\n",
    "        if (x - 1 > -1) and (y - 1 > -1):\n",
    "            count += sum([1 for l, m in zip(range(x - 1, -1, -1), range(y - 1, -1, -1)) \n",
    "                               if (board[x][y] == 1 and board[x][y] == board[l][m])])\n",
    "        # right upper diagonal 3\n",
    "        if (x - 1 > -1) and (y + 1 < N):  \n",
    "            count += sum([1 for s, t in zip(range(x - 1, -1, -1), range(y + 1, N)) \n",
    "                                if (board[x][y] == 1 and board[x][y] == board[s][t])])\n",
    "        # right lower diagonal 4 \n",
    "        if (x + 1) < N and (y + 1 < N):  \n",
    "            count += sum([1 for g, h in zip(range(x + 1, N), range(y + 1, N)) \n",
    "                                  if (board[x][y] == 1 and board[x][y] == board[g][h])])\n",
    "        return count\n",
    "\n",
    "    # Count total # of pieces on board\n",
    "    def count_pieces(self, board):\n",
    "        return sum([ sum(row) for row in board ] )\n",
    "\n",
    "    # Return a string with the board rendered in a human-friendly format\n",
    "    def printable_board(self, board):\n",
    "        if self.problem_type == \"NROOK\":\n",
    "            return \"\\n\".join([\" \".join([\"R\" if col == 1 else \"X\" \\\n",
    "                                        if col == 2 else \"_\" for col in row]) for row in board])\n",
    "        else :\n",
    "            return \"\\n\".join([\" \".join([\"Q\" if col == 1 else \"X\" \\\n",
    "                                        if col == 2 else \"_\" for col in row]) for row in board])\n",
    "\n",
    "    # Add a piece to the board at the given position, and return a new board (doesn't change original)\n",
    "    def add_piece(self, board, row, col):\n",
    "        return board[0:row] + [board[row][0:col] + [1,] + board[row][col+1:]] + board[row+1:]\n",
    "\n",
    "    # Get list of successors of given board state\n",
    "    def successors(self, board):\n",
    "        successors_list = []\n",
    "        for r in range(0, N):\n",
    "            for c in range(0,N):\n",
    "                if (r == self.x and c == self.y) or \\\n",
    "                        (self.count_on_row(board, r) == 1 or self.count_on_col(board, c) == 1):\n",
    "                    continue\n",
    "                elif self.problem_type == \"NQUEEN\":\n",
    "                    if self.count_on_diag(board, r, c) == 1:\n",
    "                        continue\n",
    "                successors_list.append(self.add_piece(board, r, c))\n",
    "        return successors_list\n",
    "\n",
    "    # check if board is a goal state\n",
    "    def is_goal(self, board):\n",
    "        bool_nrook = self.count_pieces(board) == N and \\\n",
    "                        all( [ self.count_on_row(board, r) <= 1 for r in range(0, N) ] ) and \\\n",
    "                        all( [ self.count_on_col(board, c) <= 1 for c in range(0, N) ] )\n",
    "        if self.problem_type == \"NQUEEN\":\n",
    "             return bool_nrook and \\\n",
    "                    all( [ self.count_on_diag(board, r, c) <= 1 for r in range(0, N) for c in range(0, N) ])\n",
    "        return bool_nrook\n",
    "\n",
    "    # Solve! DFS and BFS\n",
    "    def solve(self):\n",
    "        print (\"Starting from initial board:\\n\" + \\\n",
    "               self.printable_board(self.initial_board) + \"\\n\\nLooking for solution...\\n\")\n",
    "        # Keeping track of time taken\n",
    "        # start_time = time.time()\n",
    "        start_time = time.process_time()\n",
    "        fringe = [self.initial_board]\n",
    "        while len(fringe) > 0:\n",
    "            if self.search_type == \"bfs\":\n",
    "                fringe = fringe[::-1]\n",
    "            for s in self.successors( fringe.pop()):\n",
    "                if self.is_goal(s):\n",
    "                    return(s)\n",
    "                fringe.append(s)\n",
    "        # self.execution_time = time.time() - start_time\n",
    "        self.execution_time = time.process_time() - start_time\n",
    "        print(\"--- Time taken to execute is %s seconds ---\" % (time.process_time()  - start_time))\n",
    "        return False"
   ]
  },
  {
   "cell_type": "code",
   "execution_count": 10,
   "metadata": {},
   "outputs": [],
   "source": [
    "## set the values for size of board, \n",
    "## the location on board where no piece is to be placed, \n",
    "## type of problem and \n",
    "## search type\n",
    "# This is N, the size of the board.\n",
    "N = 10\n",
    "\n",
    "# These are the coordinates for X location, i.e., a cell where no queen or rook can be placed.\n",
    "x, y = 7, 7\n",
    "\n",
    "# problem_type = \"NROOK\"\n",
    "problem_type = \"NQUEEN\"\n",
    "\n",
    "# Search type\n",
    "search_type = \"bfs\""
   ]
  },
  {
   "cell_type": "code",
   "execution_count": 11,
   "metadata": {},
   "outputs": [
    {
     "name": "stdout",
     "output_type": "stream",
     "text": [
      "Starting from initial board:\n",
      "_ _ _ _ _ _ _ _ _ _\n",
      "_ _ _ _ _ _ _ _ _ _\n",
      "_ _ _ _ _ _ _ _ _ _\n",
      "_ _ _ _ _ _ _ _ _ _\n",
      "_ _ _ _ _ _ _ _ _ _\n",
      "_ _ _ _ _ _ _ _ _ _\n",
      "_ _ _ _ _ _ _ _ _ _\n",
      "_ _ _ _ _ _ _ _ _ _\n",
      "_ _ _ _ _ _ _ _ _ _\n",
      "_ _ _ _ _ _ _ _ _ _\n",
      "\n",
      "Looking for solution...\n",
      "\n"
     ]
    }
   ],
   "source": [
    "chess_solve = solver(x, y, problem_type, search_type, N)\n",
    "solution = chess_solve.solve()\n",
    "solution[x][y] = 2 # To hold the location of x and y"
   ]
  },
  {
   "cell_type": "code",
   "execution_count": 9,
   "metadata": {},
   "outputs": [],
   "source": [
    "# N = 9"
   ]
  },
  {
   "cell_type": "code",
   "execution_count": 7,
   "metadata": {},
   "outputs": [
    {
     "name": "stdout",
     "output_type": "stream",
     "text": [
      "Q _ _ _ _ _ _ _ _\n",
      "_ _ _ _ Q _ _ _ _\n",
      "_ _ _ Q _ _ _ _ _\n",
      "_ Q _ _ _ _ _ _ _\n",
      "_ _ Q _ _ _ _ _ _\n",
      "_ _ _ _ _ _ _ Q _\n",
      "_ _ _ _ _ Q _ _ _\n",
      "_ _ _ _ _ _ Q X _\n",
      "_ _ _ _ _ _ _ _ Q\n"
     ]
    }
   ],
   "source": [
    "print(chess_solve.printable_board(solution) if solution else \"Sorry, no solution found. :(\")"
   ]
  },
  {
   "cell_type": "code",
   "execution_count": 12,
   "metadata": {},
   "outputs": [
    {
     "name": "stdout",
     "output_type": "stream",
     "text": [
      "_ _ _ Q _ _ _ _ _ _\n",
      "_ _ _ _ _ Q _ _ _ _\n",
      "_ _ _ _ Q _ _ _ _ _\n",
      "_ Q _ _ _ _ _ _ _ _\n",
      "Q _ _ _ _ _ _ _ _ _\n",
      "_ _ Q _ _ _ _ _ _ _\n",
      "_ _ _ _ _ _ _ Q _ _\n",
      "_ _ _ _ _ _ Q X _ _\n",
      "_ _ _ _ _ _ _ _ Q _\n",
      "_ _ _ _ _ _ _ _ _ Q\n"
     ]
    }
   ],
   "source": [
    "# N = 10\n",
    "print(chess_solve.printable_board(solution) if solution else \"Sorry, no solution found. :(\")"
   ]
  },
  {
   "cell_type": "code",
   "execution_count": null,
   "metadata": {},
   "outputs": [],
   "source": []
  }
 ],
 "metadata": {
  "kernelspec": {
   "display_name": "Python 3",
   "language": "python",
   "name": "python3"
  },
  "language_info": {
   "codemirror_mode": {
    "name": "ipython",
    "version": 3
   },
   "file_extension": ".py",
   "mimetype": "text/x-python",
   "name": "python",
   "nbconvert_exporter": "python",
   "pygments_lexer": "ipython3",
   "version": "3.6.5"
  }
 },
 "nbformat": 4,
 "nbformat_minor": 2
}
