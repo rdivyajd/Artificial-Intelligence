{
 "cells": [
  {
   "cell_type": "code",
   "execution_count": 1,
   "metadata": {},
   "outputs": [],
   "source": [
    "#!/usr/bin/env python\n",
    "# 15-Puzzle-Solver.ipynb : Second Assignment - Solve a variant of 15 Puzzle problem\n",
    "# \n",
    "# Problem Description:\n",
    "# Instead of sliding a single tile from one cell into an empty cell, in this variant, either one, two, or three tiles  \n",
    "# may be slid left, right, up or down in a single move\n",
    "# \n",
    "# The goal is to find a short sequence of moves that restores the canonical configuration given an initial board \n",
    "# configuration using A* search.\n",
    "#\n",
    "# Output Format:\n",
    "# last line of output should be a representation of the solution path you found, in this format:\n",
    "# [move-1] [move-2] ... [move-n]\n",
    "# where each move is encoded as a letter L, R, U, or D for left, right, up, or down, respectively, \n",
    "# followed by 1, 2, or 3 indicating the number of tiles to move, \n",
    "# followed by a row or column number (indexed beginning at 1).\n",
    "#\n",
    "#\n",
    "# # g_n = cost from start node to node n\n",
    "# # h_n = estimated cost of cheapest path from a node n to goal\n",
    "\n",
    "import sys\n",
    "import time\n",
    "from copy import deepcopy"
   ]
  },
  {
   "cell_type": "code",
   "execution_count": 2,
   "metadata": {},
   "outputs": [],
   "source": [
    "class Astar:\n",
    "    def __init__(self):\n",
    "        self.initial_board = [[1, 2, 3, 4], [5, 6, 7, 8], [9, 10, 11, 12], [13, 14, 15, 0]]\n",
    "        self.h1 = 0\n",
    "        self.h2 = 0\n",
    "        self.init_positions = self.positions(self.initial_board)\n",
    "        self.city_distances = {}\n",
    "        self.closed_list = []\n",
    "        self.goal_parity = 0\n",
    "        \n",
    "    # check the parity of the given board - to see if its solvable    \n",
    "    def check_parity(self, board):\n",
    "        # get 1D list\n",
    "        single_list = []\n",
    "        for row in board:\n",
    "            for c in row:\n",
    "                single_list.append(c)\n",
    "        # get parity sum\n",
    "        parity = 0\n",
    "        for i in range(16):\n",
    "            count = 0\n",
    "            if single_list[i] == 0:\n",
    "                continue\n",
    "            for j in range(i + 1, 16):\n",
    "                if i ==j or single_list[j] == 0:\n",
    "                    continue\n",
    "                if single_list[i] > single_list[j]:\n",
    "                    count += 1\n",
    "            parity += count\n",
    "        return self.goal_parity == parity % 2\n",
    "    \n",
    "    # positions on board\n",
    "    def positions(self, board):\n",
    "        position = {}\n",
    "        for i, r in enumerate(board):\n",
    "            for j, c in enumerate(r):\n",
    "                position[c] = [i, j]\n",
    "        return position\n",
    "        \n",
    "    # goal function\n",
    "    def is_goal(self, board):\n",
    "        return sum([1 for r1, r2 in zip(self.initial_board, board) \\\n",
    "                    for c1, c2 in zip(r1, r2) if c1 == c2]) == 16\n",
    "    \n",
    "    # Heuristic function H, manhattan distance\n",
    "    def heuristic(self, board):\n",
    "        self.h1 = 15 - sum([1 for r1, r2 in zip(self.initial_board, board) \\\n",
    "                    for c1, c2 in zip(r1, r2) if c1 == c2 and c1 != 0])\n",
    "        \n",
    "        curr_positions = self.positions(board)\n",
    "        for key in range(16):\n",
    "            [x2, y2], [x1, y1] = curr_positions[key], self.init_positions[key]\n",
    "            self.city_distances[key] = abs(x2 - x1) + abs(y2 - y1)\n",
    "        self.h2 = sum(self.city_distances.values())\n",
    "    \n",
    "    # 0 location in any board configuration\n",
    "    def index0(self, board):\n",
    "        return self.positions(board)[0]\n",
    "    \n",
    "    # successor function, 0 can move either up or down, left or right 0 - 3 slides, \n",
    "    # accomodates a-star cost function\n",
    "    def successors_g_hcost(self, given_board):\n",
    "        board = given_board[0]\n",
    "        [r, c] = self.index0(board)\n",
    "        \n",
    "        # Row successors\n",
    "        row_successors = []  \n",
    "        next_board, count, steps = deepcopy(board), 0, given_board[2]\n",
    "        for i in range(c, 0, -1):\n",
    "            count += 1\n",
    "            next_board[r][i] = next_board[r][i - 1]\n",
    "            next_board[r][i - 1] = 0\n",
    "            add_board = deepcopy(next_board)\n",
    "            if add_board in self.closed_list:\n",
    "                continue\n",
    "            self.heuristic(add_board)\n",
    "            row_successors.append([add_board, count + self.h2, steps + \" \" + str(count) + \"L\"])\n",
    "        next_board, count, steps = deepcopy(board), 0, given_board[2]\n",
    "        for i in range(c, 3):\n",
    "            count += 1\n",
    "            next_board[r][i] = next_board[r][i + 1]\n",
    "            next_board[r][i + 1] = 0\n",
    "            add_board = deepcopy(next_board)\n",
    "            if add_board in self.closed_list:\n",
    "                continue\n",
    "            self.heuristic(add_board)\n",
    "            row_successors.append([add_board, count + self.h2, steps + \" \" + str(count) + \"R\"])\n",
    "\n",
    "        # Column successors\n",
    "        col_successors = []  \n",
    "        next_board, count, steps = deepcopy(board), 0, given_board[2]\n",
    "        for i in range(r, 0, -1):\n",
    "            count += 1\n",
    "            next_board[i][c] = next_board[i - 1][c]\n",
    "            next_board[i - 1][c] = 0\n",
    "            add_board = deepcopy(next_board)\n",
    "            if add_board in self.closed_list:\n",
    "                continue\n",
    "            self.heuristic(add_board)\n",
    "            col_successors.append([add_board, count + self.h2, steps + \" \" + str(count) + \"U\"])\n",
    "        next_board, count, steps = deepcopy(board), 0, given_board[2]\n",
    "        for i in range(r, 3):\n",
    "            count += 1\n",
    "            next_board[i][c] = next_board[i + 1][c]\n",
    "            next_board[i + 1][c] = 0\n",
    "            add_board = deepcopy(next_board)\n",
    "            if add_board in self.closed_list:\n",
    "                continue\n",
    "            self.heuristic(add_board)\n",
    "            col_successors.append([add_board, count + self.h2, steps + \" \" + str(count) + \"D\"])\n",
    "\n",
    "        successors = sorted(row_successors + col_successors,key=lambda x: x[1], reverse = True)\n",
    "        return successors\n",
    "    \n",
    "    # solver for 15 puzzle\n",
    "    def solve(self, board):\n",
    "        if self.check_parity(board):\n",
    "            self.heuristic(board)\n",
    "            curr_boards = [[board, self.h2, \"\"]]\n",
    "            # count = 0\n",
    "            while len(curr_boards) > 0:\n",
    "                for s in self.successors_g_hcost(curr_boards.pop(0)):\n",
    "                    # count +=1\n",
    "                    if self.is_goal(s[0]):\n",
    "                        return s[2]\n",
    "                    self.closed_list.append(s[0])\n",
    "                    curr_boards.append(s)\n",
    "                # curr_boards = sorted(curr_boards,key=lambda x: x[1], reverse = True)\n",
    "                # print(count)\n",
    "            print(\"Sorry no solution found !\")\n",
    "        else:\n",
    "            print(\"This board configuration has no solution !\")\n",
    "        \n",
    "            "
   ]
  },
  {
   "cell_type": "code",
   "execution_count": 3,
   "metadata": {},
   "outputs": [],
   "source": [
    "astar = Astar()"
   ]
  },
  {
   "cell_type": "code",
   "execution_count": 4,
   "metadata": {},
   "outputs": [
    {
     "data": {
      "text/plain": [
       "' 3R'"
      ]
     },
     "execution_count": 4,
     "metadata": {},
     "output_type": "execute_result"
    }
   ],
   "source": [
    "board = [[1, 2, 3, 4], [5, 6, 7, 8], [9, 10, 11, 12], [0, 13, 14, 15]]\n",
    "solution = astar.solve(board)\n",
    "solution"
   ]
  },
  {
   "cell_type": "code",
   "execution_count": 5,
   "metadata": {},
   "outputs": [
    {
     "data": {
      "text/plain": [
       "' 3U 1R 3D 1R 3U 1R 3D'"
      ]
     },
     "execution_count": 5,
     "metadata": {},
     "output_type": "execute_result"
    }
   ],
   "source": [
    "board1 = [[5,1,7,3],[9,2,11,4],[13,6,15,8],[0,10,14,12]]\n",
    "solution1 = astar.solve(board1)\n",
    "solution1"
   ]
  },
  {
   "cell_type": "code",
   "execution_count": null,
   "metadata": {},
   "outputs": [],
   "source": []
  }
 ],
 "metadata": {
  "kernelspec": {
   "display_name": "Python 3",
   "language": "python",
   "name": "python3"
  },
  "language_info": {
   "codemirror_mode": {
    "name": "ipython",
    "version": 3
   },
   "file_extension": ".py",
   "mimetype": "text/x-python",
   "name": "python",
   "nbconvert_exporter": "python",
   "pygments_lexer": "ipython3",
   "version": "3.6.5"
  }
 },
 "nbformat": 4,
 "nbformat_minor": 2
}
